{
 "cells": [
  {
   "cell_type": "markdown",
   "id": "c489ddd6-cdbb-43b1-a69e-cc5524c68904",
   "metadata": {},
   "source": [
    "### Eigenvalue Preparation"
   ]
  },
  {
   "cell_type": "markdown",
   "id": "4ceed05d-eb44-447f-8bf1-81ecfe8b88ae",
   "metadata": {},
   "source": [
    "Author: Roberto Hernández Palomares, Date: 15 June, 2025\n",
    "\n",
    "Input: an oracular black-box unitary $U$ on $n$ qubits with pairwise distinct eigenvalues $\\{e^{i2\\pi\\Theta(x)}\\}_{x\\in \\mathbb{F}_2^n}$. A number $t\\in[0,1]$ with the property that there exists a unique $x_0 = x_0(t)$ such that $e^{i2\\pi\\Theta(x_0)} = e^{i2\\pi t}$. Finally, $d\\in\\mathbb{N}$ such that for all $x$, $2^d\\Theta(x)\\in \\mathbb{Z}.$\n",
    "\n",
    "Te goal is to find $|x_0\\rangle$ up to $O(2^{-n})$-error with high probability.\n",
    "\n",
    "Method:\n",
    "\n",
    "   1.- We first use Quantum Phase Estimation to 'mark $x_0$'\n",
    "    \n",
    "   2.- Use Grover's algorithm to approximate it. "
   ]
  },
  {
   "cell_type": "markdown",
   "id": "b863231e-1a26-4c02-b429-72ed89e0ab4d",
   "metadata": {},
   "source": [
    "We first gather all the packages to be used and the Quantum Fourier Transform."
   ]
  },
  {
   "cell_type": "code",
   "execution_count": 597,
   "id": "b84ca636-ed63-4ee1-ae7e-b8397ce6562c",
   "metadata": {},
   "outputs": [],
   "source": [
    "from qiskit.circuit import QuantumCircuit, QuantumRegister, AncillaRegister, Parameter\n",
    "from qiskit.quantum_info import Statevector, Operator\n",
    "from qiskit import transpile\n",
    "from qiskit.circuit.library.standard_gates import HGate\n",
    "#from qiskit.circuit.library.DiagonalGate import Diag\n",
    "\n",
    "import numpy as np\n",
    "import math\n",
    "import cmath\n",
    "from math import e\n",
    "\n",
    "# We copy QFT^\\dag from Notebook 3\n",
    "def inverse_quantum_fourier_transform(n):\n",
    "    quantum_register = QuantumRegister(size=n, name=\"x\")\n",
    "    inverse_QFT_circuit = QuantumCircuit(quantum_register, name=f\"IQFT\")\n",
    "\n",
    "    for i, q in enumerate(reversed(quantum_register), start=1):\n",
    "        for j, p in enumerate(reversed(quantum_register[n + 1 - i:]), start=1):\n",
    "            inverse_QFT_circuit.cp(- np.pi / (1 << (i - j)), q, p)\n",
    "        inverse_QFT_circuit.h(q)\n",
    "\n",
    "    for q, p in zip(quantum_register[:n >> 1], reversed(quantum_register[n >> 1:])):\n",
    "        inverse_QFT_circuit.swap(q, p)\n",
    "\n",
    "    return inverse_QFT_circuit.to_gate()\n"
   ]
  },
  {
   "cell_type": "markdown",
   "id": "5cd76ed1-727d-4a2c-af60-8da65262772c",
   "metadata": {},
   "source": [
    "### Step1: We implement the $\\textbf{Quantum Phase Estimation}$ process to mark $x_0$."
   ]
  },
  {
   "cell_type": "markdown",
   "id": "e65615a9-f148-45dc-8774-41eb3d314055",
   "metadata": {},
   "source": [
    "Set input parameters:"
   ]
  },
  {
   "cell_type": "code",
   "execution_count": 600,
   "id": "962116c3-c231-44ee-8e9f-e0b280e7e969",
   "metadata": {},
   "outputs": [],
   "source": [
    "### Set your parameters\n",
    "n = 4 # Number of Qubits U operates on\n",
    "d = 3 # Precision parameter\n",
    "t = 0.6595"
   ]
  },
  {
   "cell_type": "markdown",
   "id": "8c0d9b99-37ae-42c4-94d5-ea9468db3c72",
   "metadata": {},
   "source": [
    "We now build some oracular diagonal $U$ acting on $n$ qubits with random eigenvalues:"
   ]
  },
  {
   "cell_type": "code",
   "execution_count": 602,
   "id": "c13f8f33-4a7b-4a11-bcbb-edb43894d7da",
   "metadata": {},
   "outputs": [],
   "source": [
    "### Creating some unitary U on n qubits randomly\n",
    "U_bits = list(range(0,n))\n",
    "U_qr = QuantumRegister(n, 'x')\n",
    "U_qc = QuantumCircuit(U_qr, name = 'oracleU')\n",
    "U_vals = [ complex(0, 0) for k in range(2**n) ] \n",
    "\n",
    "aux = 0\n",
    "for i in range(2**n):\n",
    "    aux = np.random.rand()\n",
    "    U_vals[i] = e**(0+aux*np.pi*2j)\n",
    "\n",
    "U = Diagonal(U_vals) ### Notice likelyhood of having repeated eigenvalues is quite low, so we go with this. \n",
    "U_qc.compose(U, inplace=True)\n",
    "\n",
    "U_oracle = U_qc.to_gate()\n",
    "#U_qc.draw(output='mpl')"
   ]
  },
  {
   "cell_type": "markdown",
   "id": "2d9428f7-7296-4b39-bb6c-63e3ac1dd7af",
   "metadata": {},
   "source": [
    "Preparing Quantum Phase Estimation Circuit in order to digitize $\\Theta(x_0)$ corresponding to $t$ with $d$ bits."
   ]
  },
  {
   "cell_type": "code",
   "execution_count": 604,
   "id": "8ab1c8c6-9326-4714-869d-3a7976b10036",
   "metadata": {},
   "outputs": [
    {
     "data": {
      "image/png": "[encoded data removed]",
      "text/plain": [
       "<Figure size 1038.79x618.722 with 1 Axes>"
      ]
     },
     "execution_count": 604,
     "metadata": {},
     "output_type": "execute_result"
    }
   ],
   "source": [
    "QPE_bits = list(range(0, n))\n",
    "QPE_qr = QuantumRegister(n, 'x')\n",
    "QPE_ANbits = list(range(n, n+d))\n",
    "QPEan_qr = AncillaRegister(d, 's')\n",
    "QPE_qc = QuantumCircuit(QPE_qr, QPEan_qr, name ='QPE')\n",
    "\n",
    "CU_oracle = U_oracle.control(1)\n",
    "\n",
    "QPE_qc.h(QPEan_qr)\n",
    "\n",
    "aux = QPE_bits+[n-1]\n",
    "for i in range(0,n):\n",
    "    aux[i+1] = i \n",
    "\n",
    "for i, q in enumerate(QPEan_qr):\n",
    "    aux[0] = q\n",
    "    #QPE_qc.append(CU_oracle**(2**i), [q,0,1,2])\n",
    "    QPE_qc.append(CU_oracle**(2**i), aux)\n",
    "\n",
    "QPE_qc.append(inverse_quantum_fourier_transform(d), QPE_ANbits)\n",
    "\n",
    "QPE = QPE_qc.to_gate()\n",
    "QPE_qc.draw(output='mpl', style = 'bw')"
   ]
  },
  {
   "cell_type": "code",
   "execution_count": 605,
   "id": "a2302505-e815-4c6e-81a5-c00a3787d8f0",
   "metadata": {},
   "outputs": [
    {
     "data": {
      "text/latex": [
       "$$(0.0761697326 + 0.0446383465 i) |0000000\\rangle+(0.0511261301 + 0.0675320365 i) |0010000\\rangle+(0.0240794108 + 0.0922568822 i) |0100000\\rangle+(-0.0180848658 + 0.1308014917 i) |0110000\\rangle+(-0.1442389503 + 0.246125655 i) |1000000\\rangle+(0.7274194694 - 0.5507037015 i) |1010000\\rangle+(0.174951053 - 0.0456629163 i) |1100000\\rangle+(0.1085780201 + 0.0150122059 i) |1110000\\rangle$$"
      ],
      "text/plain": [
       "<IPython.core.display.Latex object>"
      ]
     },
     "execution_count": 605,
     "metadata": {},
     "output_type": "execute_result"
    }
   ],
   "source": [
    "output_state = Statevector(QPE_qc)\n",
    "output_state.draw(\"latex\")"
   ]
  },
  {
   "cell_type": "markdown",
   "id": "c416d19e-2d1d-4bf5-885f-cc0aa77e9fd5",
   "metadata": {},
   "source": [
    "### We now construct a  $\\textbf{diagonal Unitary for Grover's Algorithm}$, implementing a gate $U_{Grov}$ having $x_0$ as eigenvector for $-1$ and acting as the identity over the perp. "
   ]
  },
  {
   "cell_type": "code",
   "execution_count": 607,
   "id": "8a5abbd7-e087-4dc6-b4e7-dbc0b6f18afe",
   "metadata": {},
   "outputs": [],
   "source": [
    "# Construction of qubits, ancillas and Grovner circuit\n",
    "Grov_bits = list(range(0, n))\n",
    "Grov_ANbits = list(range(n, n+d))\n",
    "Grov_qr = QuantumRegister(n, 'x')\n",
    "Grov_ANqr = AncillaRegister(d, 's')\n",
    "Grov_qc = QuantumCircuit(Grov_qr, Grov_ANqr, name ='QPE')\n",
    "\n",
    "U_Grov_qc = QuantumCircuit(Grov_qr, Grov_ANqr, name=\"Marker U\")"
   ]
  },
  {
   "cell_type": "markdown",
   "id": "7e46ecf9-1f52-472b-af5a-601a51ced1a9",
   "metadata": {},
   "source": [
    "### We now construct an auxiliary function that gives the best binary approximation of $t$ using $d$ bits, and build a gate which complements it to the binary expression of $2^{d-1}$."
   ]
  },
  {
   "cell_type": "code",
   "execution_count": 609,
   "id": "74b51580-4742-4203-82aa-93c111a2d65d",
   "metadata": {},
   "outputs": [
    {
     "name": "stdout",
     "output_type": "stream",
     "text": [
      "t_bits= [1 0 1] \n",
      "\n"
     ]
    },
    {
     "data": {
      "image/png": "[encoded data removed]",
      "text/plain": [
       "<Figure size 202.683x618.722 with 1 Axes>"
      ]
     },
     "execution_count": 609,
     "metadata": {},
     "output_type": "execute_result"
    }
   ],
   "source": [
    "\n",
    "# We now obtain the digits of t that best approximate it using d bits\n",
    "t_bits = (int(np.rint(2**d * t)) >> np.arange(d))%2 #np.rint() rounds to nearest integer\n",
    "print('t_bits=', t_bits, '\\n')\n",
    "\n",
    "Complement_bits = list(range(0, n))\n",
    "Complement_qr = QuantumRegister(n, 'x')\n",
    "Complement_ANqr = AncillaRegister(d, 's')\n",
    "Complement_qc = QuantumCircuit(Complement_qr, Complement_ANqr, name ='t-digComp')\n",
    "\n",
    "for a in range(0, d):#Ensuring turning t_bit[a] into 1\n",
    "    if t_bits[a] == 0:\n",
    "        #print(a, t_bits[a])\n",
    "        Complement_qc.x(n+a)\n",
    "\n",
    "U_complement = Complement_qc.to_gate()\n",
    "\n",
    "Complement_qc.draw(output='mpl', style='bw')"
   ]
  },
  {
   "cell_type": "markdown",
   "id": "ad82d5b7-a036-4465-a5e7-b3c6c6ad6868",
   "metadata": {},
   "source": [
    "### We now build a $d\\textbf{-dimensional multi-controlled-}Z^d$ gate:"
   ]
  },
  {
   "cell_type": "code",
   "execution_count": 611,
   "id": "6daf1035-2cd8-48ff-b206-c2643ddd4b56",
   "metadata": {},
   "outputs": [],
   "source": [
    "mcZd_bits = list(range(0, n))\n",
    "mcZd_ANbits = list(range(n, n+d))\n",
    "mcZd_qr = QuantumRegister(n, 'x')\n",
    "mcZdAN_qr = AncillaRegister(d, 's')\n",
    "mcZd_qc = QuantumCircuit(mcZd_qr, mcZdAN_qr, name =r\"$C^dZ^{\\otimes d}$\")\n",
    "\n",
    "for b in range(0, n):\n",
    "    mcZd_qc.mcp(np.pi, Grov_ANbits, Grov_qr[b])\n",
    "\n",
    "CdZd = mcZd_qc.to_gate()"
   ]
  },
  {
   "cell_type": "markdown",
   "id": "4393c554-01e1-4993-bd5d-077aab5620b8",
   "metadata": {},
   "source": [
    "### We now compose all these pieces together as follows:\n",
    "$$\n",
    "U_{Grov, t}:= (QPE)^\\dagger\\circ\\left((X)^{\\otimes(1-t_{bits})}\\right)^\\dagger\\circ(C^dZ^{\\otimes d})\\circ(X)^{\\otimes(1-t_{bits})}\\circ(QPE).\n",
    "$$\n",
    "A direct computation shows that \n",
    "$$\n",
    "U_{Grov,t}:\\sum_{x\\in \\mathbb{F}^2}|x\\rangle|0\\rangle_d\\mapsto \\sum_{x\\in \\mathbb{F}^2\\setminus\\{t\\}}|x\\rangle|0\\rangle_d - |t\\rangle|0\\rangle_d, \n",
    "$$\n",
    "thus capturing the desired 'marker' unitary to run Grover's Algorithm. "
   ]
  },
  {
   "cell_type": "code",
   "execution_count": 613,
   "id": "eb34a2d4-2a91-4dc7-a8da-506891275e38",
   "metadata": {},
   "outputs": [
    {
     "data": {
      "image/png": "[encoded data removed]",
      "text/plain": [
       "<Figure size 955.183x618.722 with 1 Axes>"
      ]
     },
     "execution_count": 613,
     "metadata": {},
     "output_type": "execute_result"
    }
   ],
   "source": [
    "U_Grov_qc.compose(QPE, inplace = True)\n",
    "U_Grov_qc.compose(U_complement, inplace=True)    #Complement of t \n",
    "U_Grov_qc.compose(CdZd, inplace=True)   # mcZ^d gate\n",
    "U_Grov_qc.compose(U_complement.inverse(), inplace=True)   #complement of t\n",
    "U_Grov_qc.compose(QPE.inverse(), inplace = True)\n",
    "\n",
    "\n",
    "Marker = U_Grov_qc.to_gate()\n",
    "U_Grov_qc.draw(output='mpl', style='bw')"
   ]
  },
  {
   "cell_type": "markdown",
   "id": "5f2c0ace-b0e7-4b46-88b2-045751f601aa",
   "metadata": {},
   "source": [
    "### Grover's Diffusion operator"
   ]
  },
  {
   "cell_type": "code",
   "execution_count": 615,
   "id": "3efd2096-b7dc-4b00-bcc7-bfb8db22fe79",
   "metadata": {},
   "outputs": [],
   "source": [
    "Diff_bits = list(range(0,n))\n",
    "Diff_Anbits = list(range(n, n+d))\n",
    "Diff_qr = QuantumRegister(n, 'x')\n",
    "Diff_ANqr = AncillaRegister(d, 's')\n",
    "Diff_qc = QuantumCircuit(Diff_qr, Diff_ANqr, name = 'Diffuser')\n",
    "\n",
    "\n",
    "D_vals = -1*np.ones(2**(n+d)) ## this is the operator 2|0><0|-\\id_2^{\\otimes n}\n",
    "D_vals[0] = 1\n",
    "D = np.diag(D_vals)\n",
    "D_bits = list(range(0, n+d))\n",
    "\n",
    "\n",
    "\n",
    "######## Diffuse operator\n",
    "Diff_qc.h(Diff_qr)\n",
    "Diff_qc.h(Diff_ANqr)\n",
    "\n",
    "## Implementing H^{\\otimes n} \\circ (2|0><0| - \\id_2^{\\otimes n}) \\circ H^{\\otimes n}.\n",
    "## Notice (2|0><0| - \\id_2^{\\otimes n}) = diag(-1, 1, 1, ..., 1) in comp basis.\n",
    "Diff_qc.unitary(D, qubits=D_bits)\n",
    "\n",
    "Diff_qc.h(Diff_qr)\n",
    "Diff_qc.h(Diff_ANqr)\n",
    "##########\n",
    "\n",
    "Diffuser = Diff_qc.to_gate()\n",
    "#Diff_qc.draw(output='mpl')"
   ]
  },
  {
   "cell_type": "markdown",
   "id": "5f2d75da-db0a-46bd-b9ef-23d37145c973",
   "metadata": {},
   "source": [
    "### Circuit for Grover's Algorithm using $U_{Grov, t}$ "
   ]
  },
  {
   "cell_type": "code",
   "execution_count": 617,
   "id": "6aa93f7f-fa30-4dce-8d05-65e4612a657d",
   "metadata": {},
   "outputs": [
    {
     "name": "stdout",
     "output_type": "stream",
     "text": [
      "3\n"
     ]
    },
    {
     "data": {
      "image/png": "[encoded data removed]",
      "text/plain": [
       "<Figure size 1206.02x618.722 with 1 Axes>"
      ]
     },
     "execution_count": 617,
     "metadata": {},
     "output_type": "execute_result"
    }
   ],
   "source": [
    "# Let's construct Grover's Algorithm Circuit\n",
    "GAC_bits = list(range(0, n))\n",
    "GAC_ANbits = list(range(n, n+d))\n",
    "GAC_qr = QuantumRegister(n, 'x')\n",
    "GAC_ANqr = AncillaRegister(d, 's')\n",
    "GAC_qc = QuantumCircuit(Grov_qr, Grov_ANqr, name ='Grover`s')\n",
    "\n",
    "K = int(np.rint(np.pi / (4 * np.arcsin(1 / np.sqrt(2**n))) - 1/2))\n",
    "print(K)\n",
    "\n",
    "### We now iterate U_Grov \\circ Diffuser K times:\n",
    "GAC_qc.h(GAC_qr)\n",
    "for i in range(0, K):\n",
    "    GAC_qc.compose(Marker, inplace=True)\n",
    "    GAC_qc.compose(Diffuser, inplace=True)\n",
    "\n",
    "GAC = GAC_qc.to_gate()\n",
    "GAC_qc.draw(output='mpl', style='bw')"
   ]
  },
  {
   "cell_type": "code",
   "execution_count": 618,
   "id": "a6d61b4c-088a-40f6-87a5-9491dbf840f3",
   "metadata": {},
   "outputs": [
    {
     "data": {
      "text/plain": [
       "array([5.38137157e-02, 5.37321507e-02, 4.03998277e-02, 5.38137157e-02,\n",
       "       7.53227161e-02, 5.38137157e-02, 5.38137157e-02, 5.31010754e-02,\n",
       "       2.79200541e-02, 5.38137157e-02, 5.38137157e-02, 5.16718395e-03,\n",
       "       5.38137157e-02, 2.09900779e-02, 4.05189499e-02, 5.38137157e-02,\n",
       "       3.27473907e-04, 4.04284321e-04, 7.05725502e-04, 3.27473907e-04,\n",
       "       1.17215616e-03, 3.27473907e-04, 3.27473907e-04, 4.52575288e-04,\n",
       "       2.52732169e-03, 3.27473907e-04, 3.27473907e-04, 3.03713172e-03,\n",
       "       3.27473907e-04, 1.17319747e-03, 5.24390494e-04, 3.27473907e-04,\n",
       "       3.27473907e-04, 2.44602746e-03, 3.30432931e-03, 3.27473907e-04,\n",
       "       3.82394252e-03, 3.27473907e-04, 3.27473907e-04, 2.86885049e-03,\n",
       "       9.39426762e-03, 3.27473907e-04, 3.27473907e-04, 1.10376697e-02,\n",
       "       3.27473907e-04, 3.57555726e-03, 1.04633484e-03, 3.27473907e-04,\n",
       "       3.27473907e-04, 1.19293648e-03, 1.48961086e-04, 3.27473907e-04,\n",
       "       2.12123591e-04, 3.27473907e-04, 3.27473907e-04, 9.96873842e-04,\n",
       "       4.64356286e-05, 3.27473907e-04, 3.27473907e-04, 1.39993017e-05,\n",
       "       3.27473907e-04, 4.36308476e-05, 1.29536666e-04, 3.27473907e-04,\n",
       "       3.27473907e-04, 3.16808597e-04, 3.54143551e-03, 3.27473907e-04,\n",
       "       1.49090615e-02, 3.27473907e-04, 3.27473907e-04, 3.01959359e-04,\n",
       "       4.12051315e-02, 3.27473907e-04, 3.27473907e-04, 5.27111329e-02,\n",
       "       3.27473907e-04, 2.54802055e-02, 8.60265783e-03, 3.27473907e-04,\n",
       "       3.27473907e-04, 3.27474731e-04, 2.61896181e-03, 3.27473907e-04,\n",
       "       1.19572909e-04, 3.27473907e-04, 3.27473907e-04, 3.36359502e-04,\n",
       "       3.42181884e-05, 3.27473907e-04, 3.27473907e-04, 3.71339931e-04,\n",
       "       3.27473907e-04, 5.77141917e-04, 1.09051797e-04, 3.27473907e-04,\n",
       "       3.27473907e-04, 3.45011437e-04, 1.34320115e-02, 3.27473907e-04,\n",
       "       1.41845295e-05, 3.27473907e-04, 3.27473907e-04, 4.74443723e-04,\n",
       "       9.28733018e-04, 3.27473907e-04, 3.27473907e-04, 3.33962531e-03,\n",
       "       3.27473907e-04, 4.94086337e-03, 1.80021931e-03, 3.27473907e-04,\n",
       "       3.27473907e-04, 4.90023039e-04, 3.59503077e-03, 3.27473907e-04,\n",
       "       3.29520192e-04, 3.27473907e-04, 3.27473907e-04, 6.03380585e-04,\n",
       "       3.61445888e-04, 3.27473907e-04, 3.27473907e-04, 3.93844244e-04,\n",
       "       3.27473907e-04, 6.03812261e-04, 5.06777970e-04, 3.27473907e-04])"
      ]
     },
     "execution_count": 618,
     "metadata": {},
     "output_type": "execute_result"
    }
   ],
   "source": [
    "psi = Statevector(GAC)\n",
    "psi.probabilities()"
   ]
  }
 ],
 "metadata": {
  "kernelspec": {
   "display_name": "Python [conda env:base] *",
   "language": "python",
   "name": "conda-base-py"
  },
  "language_info": {
   "codemirror_mode": {
    "name": "ipython",
    "version": 3
   },
   "file_extension": ".py",
   "mimetype": "text/x-python",
   "name": "python",
   "nbconvert_exporter": "python",
   "pygments_lexer": "ipython3",
   "version": "3.12.7"
  }
 },
 "nbformat": 4,
 "nbformat_minor": 5
}
